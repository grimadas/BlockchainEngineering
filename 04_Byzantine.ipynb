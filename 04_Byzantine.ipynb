{
 "cells": [
  {
   "cell_type": "markdown",
   "metadata": {},
   "source": [
    "\n",
    "# Beyond CFT: Attacks on the Network and Convergence \n",
    "\n",
    "\n",
    "So far we showed how gossip can withstand network imperfection. But what if the attacker deliberately splits and attacks the network?  \n",
    "\n",
    "\n",
    "Beyond regular crashes, peer can behave in various ways violating the protocol: hide transactions, send bogus data, create Sybil entities etc.\n",
    "The goal of a blockchain system is to withstand against a powerful adversary. \n",
    "\n",
    "To ensure that message will be seen by the peer, once the peer is back online it must fetch the data from the neighboring peers. But what if the neighboring nodes are malicious and will censor certain transactions?   \n",
    "\n",
    "In the next notebooks we will cover techniques that help to detect/prevent malicious behaviour.\n",
    "\n",
    "\n",
    "\n",
    "# Malicious gossip agent \n",
    "\n",
    "One of the goal of a blockchain system is to record transaction in a 'hard-to-tamper' way.\n",
    "\n",
    "How can you achieve that in P2P settings?  \n",
    "It is common in databases and blockchains to use cryptography to verify the integrities of the transactions.\n",
    "\n",
    "Let's first create a malicious agent that will change the data of received transactions to split the network.  \n"
   ]
  },
  {
   "cell_type": "code",
   "execution_count": null,
   "metadata": {
    "ExecuteTime": {
     "end_time": "2020-03-31T19:30:37.379961Z",
     "start_time": "2020-03-31T19:30:33.698039Z"
    }
   },
   "outputs": [],
   "source": [
    "# Initialize the experiment:\n",
    "import networkx as nx\n",
    "from p2psimpy.simulation import Simulation\n",
    "import warnings\n",
    "warnings.filterwarnings('ignore')\n",
    "\n",
    "# Load the previous experiment configurations\n",
    "exper = Simulation.load_experiment(expr_dir='crash_gossip')\n",
    "\n",
    "Locations, topology, peer_services, serv_impl = exper\n"
   ]
  },
  {
   "cell_type": "markdown",
   "metadata": {},
   "source": [
    "## Define malicious agents \n",
    "Let's first add malicious nodes randomly: "
   ]
  },
  {
   "cell_type": "code",
   "execution_count": null,
   "metadata": {
    "ExecuteTime": {
     "end_time": "2020-03-31T19:30:37.392591Z",
     "start_time": "2020-03-31T19:30:37.382301Z"
    }
   },
   "outputs": [],
   "source": [
    "# Change peer to a malicious \n",
    "from itertools import groupby\n",
    "from random import sample\n",
    "\n",
    "frac_malicious_nodes = 0.3 # 30 % of malicious nodes\n",
    "\n",
    "\n",
    "def assign_malicious_peers(topology, mal_frac):\n",
    "    type_dict = nx.get_node_attributes(topology, 'type')\n",
    "    inv_type_dict = {k: {j for j, _ in list(v)}\n",
    "                                for k, v in groupby(type_dict.items(), lambda x: x[1])}\n",
    "    mal_nodes = sample(list(inv_type_dict['peer']), \n",
    "                       int(frac_malicious_nodes * len(inv_type_dict['peer'])))\n",
    "    for b in mal_nodes:\n",
    "        type_dict[b] = 'malicious'\n",
    "        \n",
    "    nx.set_node_attributes(topology, type_dict, 'type')\n",
    "    \n",
    "assign_malicious_peers(topology, frac_malicious_nodes)"
   ]
  },
  {
   "cell_type": "markdown",
   "metadata": {},
   "source": [
    "## Define malicious services \n",
    "\n",
    "We will inherit a malicious gossip service that will relay the gossip message to one half of the network and the other half a tempered message (with different data). \n",
    "\n"
   ]
  },
  {
   "cell_type": "code",
   "execution_count": null,
   "metadata": {
    "ExecuteTime": {
     "end_time": "2020-03-31T19:36:19.877917Z",
     "start_time": "2020-03-31T19:36:19.859339Z"
    }
   },
   "outputs": [],
   "source": [
    "from p2psimpy.messages import *\n",
    "from p2psimpy.consts import TEMPERED\n",
    "\n",
    "class MaliciousGossipService(p2p.GossipService):\n",
    "    \n",
    "    \n",
    "    def handle_message(self, msg):\n",
    "        # Store the original message localy \n",
    "        self.peer.store('msg_time', msg.id, self.peer.env.now)\n",
    "        self.peer.store('msg_data', msg.id, msg.data)\n",
    "\n",
    "        if msg.ttl > 0:\n",
    "            # Rely message further, modify the message\n",
    "            exclude_peers = {msg.sender} | self.exclude_peers\n",
    "            \n",
    "            # Send the original message to one half of the network, \n",
    "            selected = self.peer.gossip(GossipMessage(self.peer, msg.id, msg.data, msg.ttl-1,\n",
    "                                                      pre_task=msg.pre_task, post_task=msg.post_task), \n",
    "                                        self.fanout//2, \n",
    "                                        except_peers=exclude_peers, \n",
    "                                        except_type=self.exclude_types)\n",
    "            # Change the message and send it to the other half\n",
    "            new_data = TEMPERED\n",
    "            exclude_peers = exclude_peers | set(selected)\n",
    "            self.peer.gossip(GossipMessage(self.peer, msg.id, new_data, msg.ttl-1, \n",
    "                                           pre_task=msg.pre_task, post_task=msg.post_task), \n",
    "                             self.fanout//2, \n",
    "                             except_peers=exclude_peers, \n",
    "                             except_type=self.exclude_types)"
   ]
  },
  {
   "cell_type": "markdown",
   "metadata": {},
   "source": [
    "##  Add malicious type and services \n",
    "\n",
    "We deliberately keep malicious nodes uncrashable. \n"
   ]
  },
  {
   "cell_type": "code",
   "execution_count": null,
   "metadata": {
    "ExecuteTime": {
     "end_time": "2020-03-31T19:36:23.768581Z",
     "start_time": "2020-03-31T19:36:23.751908Z"
    }
   },
   "outputs": [],
   "source": [
    "gossip_config = peer_services['peer'].service_map['RangedPullGossipService']\n",
    "serv_impl['RangedPullGossipService'] = p2p.GossipService\n",
    "\n",
    "\n",
    "\n",
    "peer_services['malicious'] = p2p.PeerType(peer_services['peer'].config,\n",
    "                                      {p2p.BaseConnectionManager:None,\n",
    "                                       MaliciousGossipService: gossip_config}\n",
    "                                     )"
   ]
  },
  {
   "cell_type": "markdown",
   "metadata": {},
   "source": [
    "## Run simulation \n",
    "\n",
    "Let's see how malicious agents together with crashing nodes affect the message dissemination. "
   ]
  },
  {
   "cell_type": "code",
   "execution_count": null,
   "metadata": {
    "ExecuteTime": {
     "end_time": "2020-03-31T19:30:37.444241Z",
     "start_time": "2020-03-31T19:30:37.428388Z"
    }
   },
   "outputs": [],
   "source": [
    "serv_impl"
   ]
  },
  {
   "cell_type": "code",
   "execution_count": null,
   "metadata": {
    "ExecuteTime": {
     "end_time": "2020-03-31T18:28:25.315534Z",
     "start_time": "2020-03-31T18:28:25.310879Z"
    }
   },
   "outputs": [],
   "source": [
    "from p2psimpy.messages import GossipMessage"
   ]
  },
  {
   "cell_type": "code",
   "execution_count": null,
   "metadata": {
    "ExecuteTime": {
     "end_time": "2020-03-31T19:30:38.888965Z",
     "start_time": "2020-03-31T19:30:37.447250Z"
    }
   },
   "outputs": [],
   "source": [
    "# Init Graph\n",
    "sim = Simulation(Locations, topology, peer_services, serv_impl)\n",
    "sim.run(3_200)"
   ]
  },
  {
   "cell_type": "markdown",
   "metadata": {},
   "source": [
    "# Analyze the storage data\n",
    "\n",
    "\n"
   ]
  },
  {
   "cell_type": "markdown",
   "metadata": {},
   "source": [
    "## Message data\n",
    "\n",
    "Let's see how this fraction of malicious nodes affected the network. \n",
    "We compare the received message with the original message, we report `True` if the message wasn't tampered `False` and otherwise. \n",
    "\n"
   ]
  },
  {
   "cell_type": "code",
   "execution_count": null,
   "metadata": {
    "ExecuteTime": {
     "end_time": "2020-03-31T19:30:42.531350Z",
     "start_time": "2020-03-31T19:30:38.895050Z"
    }
   },
   "outputs": [],
   "source": [
    "import pandas as pd\n",
    "\n",
    "def message_data(sim, peer_id, storage_name):\n",
    "    store = sim.peers[peer_id].storage[storage_name].txs\n",
    "    for msg_id, tx in store.items():\n",
    "        client_id, msg_num = msg_id.split('_')\n",
    "        client_tx = sim.peers[int(client_id)].storage[storage_name].txs[msg_id]\n",
    "        yield (int(msg_num), tx.data == client_tx.data)\n",
    "        \n",
    "def get_gossip_table(sim, storage_name, func):\n",
    "    return pd.DataFrame({k: dict(func(sim, k, storage_name)) \n",
    "                         for k in set(sim.types_peers['peer'])}).sort_index()\n",
    "\n",
    "    \n",
    "df = get_gossip_table(sim, 'msg_data', message_data)\n",
    "df"
   ]
  },
  {
   "cell_type": "code",
   "execution_count": null,
   "metadata": {
    "ExecuteTime": {
     "end_time": "2020-03-31T19:30:42.719445Z",
     "start_time": "2020-03-31T19:30:42.651908Z"
    }
   },
   "outputs": [],
   "source": [
    "df[df==False].count()"
   ]
  },
  {
   "cell_type": "markdown",
   "metadata": {
    "ExecuteTime": {
     "end_time": "2020-03-24T16:36:08.019704Z",
     "start_time": "2020-03-24T16:36:08.009675Z"
    }
   },
   "source": [
    "Malicious nodes managed to trick some peers into accepting wrong data! As peers will write 'first-seen' value, adversary once having advantage over the network can perfectly split the network. \n",
    "\n",
    "How to deal with this?\n",
    "\n",
    "# Signing messages\n",
    "\n",
    "First of all, messages themselves must be verified on their **integrity** and **authenticity**. \n",
    "[Digital signatures](https://en.wikipedia.org/wiki/Digital_signature) are perfect match for this and hence all blockchain systems use them. \n",
    "\n",
    "We will modify the code to simulate the signed messages. We will not use an actual crytpographic protocol since we care about only two things for our simulation: \n",
    "- It takes time to verify and sign messages. \n",
    "- Peers should store and forward only valid messages. \n",
    "\n",
    "\n",
    "\n",
    "## Simulating digital signatures \n",
    "\n",
    "We will show an example by building a crypto validator for 456 bits [EdDSA (Ed448)](https://en.wikipedia.org/wiki/EdDSA) (one of the most popular digital signatures in the wild).\n",
    "On a regular laptop it takes usually less than 1 millisecond to verify a signature. Let's take the near worse case.  \n",
    "\n",
    "\n",
    "This is not real. \n",
    "\n",
    "We will integrate a verification task into the message itself. \n",
    "Peer before triggering other services will first run the `pre_task`.  \n",
    "\n",
    "Since the message is first created by MessageProducer we will add a task in the configuration.\n",
    "\n"
   ]
  },
  {
   "cell_type": "code",
   "execution_count": null,
   "metadata": {
    "ExecuteTime": {
     "end_time": "2020-03-31T19:37:19.330434Z",
     "start_time": "2020-03-31T19:37:19.321439Z"
    }
   },
   "outputs": [],
   "source": [
    "from p2psimpy.consts import TEMPERED\n",
    "from p2psimpy.config import Config, Func, Dist\n",
    "\n",
    "\n",
    "conf = peer_services['client'].service_map['MessageProducer']\n",
    "\n",
    "\n",
    "def validate_task(msg, peer):\n",
    "    gen_dist = Dist('norm', (1, 0.2)) # time it takes to verify the message\n",
    "\n",
    "    yield peer.env.timeout(gen_dist.get())\n",
    "    if msg.data == TEMPERED:\n",
    "        # You can decide what to do in this case.\n",
    "        return False\n",
    "    return True\n",
    "\n",
    "\n",
    "class MsgConfig(Config):\n",
    "    pre_task = Func(validate_task)\n",
    "    init_ttl = conf.init_ttl if conf else 3\n",
    "    \n",
    "    \n",
    "peer_services['client'].service_map['MessageProducer'] = MsgConfig"
   ]
  },
  {
   "cell_type": "code",
   "execution_count": null,
   "metadata": {},
   "outputs": [],
   "source": []
  },
  {
   "cell_type": "code",
   "execution_count": null,
   "metadata": {
    "ExecuteTime": {
     "end_time": "2020-03-31T19:37:24.022307Z",
     "start_time": "2020-03-31T19:37:22.206059Z"
    }
   },
   "outputs": [],
   "source": [
    "# Run the simulation with a modificed message producer \n",
    "\n",
    "sim2 = Simulation(Locations, topology, peer_services, serv_impl)\n",
    "sim2.run(3_200)\n"
   ]
  },
  {
   "cell_type": "code",
   "execution_count": null,
   "metadata": {
    "ExecuteTime": {
     "end_time": "2020-03-31T19:37:26.967124Z",
     "start_time": "2020-03-31T19:37:26.933298Z"
    }
   },
   "outputs": [],
   "source": [
    "df = get_gossip_table(sim2, 'msg_data', message_data)\n",
    "df"
   ]
  },
  {
   "cell_type": "code",
   "execution_count": null,
   "metadata": {
    "ExecuteTime": {
     "end_time": "2020-03-31T19:36:44.366546Z",
     "start_time": "2020-03-31T19:36:44.361260Z"
    }
   },
   "outputs": [],
   "source": [
    "sim2.peers[12].storage['msg_data'].txs"
   ]
  },
  {
   "cell_type": "markdown",
   "metadata": {},
   "source": [
    "Now malicious nodes cannot change the message. They need to explore other attack strategies!\n",
    "The malicious nodes can delay messages, hide them, freeriding in a gossip (only listening). \n",
    "Together with network attack this can create a dangerous combination. \n",
    "\n",
    "Let us consider a case where an honest node is surrounded by malicious nodes (all network connections are with malicious nodes) that will hide certain transactions. As a result, peer will not receive crucial transactions that might affect it's decision making process. This attack is also called **Eclipse attack**.   \n",
    "\n",
    "In reality, almost nothing stops one malicious node from running multiple instances and poison the whole network. This attack is called **Sybil Attack**. \n",
    "\n",
    "\n"
   ]
  },
  {
   "cell_type": "markdown",
   "metadata": {},
   "source": [
    "### Exercises\n",
    "\n",
    "\n",
    "- Explore the limits of the gossip protocol. What is the maximum number of malicious nodes a protocol can tolerate? \n",
    "- Try to eclipse attack some peer, make sure he doesn't get any message, or one specific message (censor)? \n",
    "\n"
   ]
  },
  {
   "cell_type": "code",
   "execution_count": null,
   "metadata": {},
   "outputs": [],
   "source": []
  }
 ],
 "metadata": {
  "hide_input": false,
  "kernelspec": {
   "display_name": "Python 3",
   "language": "python",
   "name": "python3"
  },
  "language_info": {
   "codemirror_mode": {
    "name": "ipython",
    "version": 3
   },
   "file_extension": ".py",
   "mimetype": "text/x-python",
   "name": "python",
   "nbconvert_exporter": "python",
   "pygments_lexer": "ipython3",
   "version": "3.8.5"
  },
  "toc": {
   "base_numbering": 1,
   "nav_menu": {},
   "number_sections": true,
   "sideBar": true,
   "skip_h1_title": false,
   "title_cell": "Table of Contents",
   "title_sidebar": "Contents",
   "toc_cell": false,
   "toc_position": {},
   "toc_section_display": true,
   "toc_window_display": false
  },
  "varInspector": {
   "cols": {
    "lenName": 16,
    "lenType": 16,
    "lenVar": 40
   },
   "kernels_config": {
    "python": {
     "delete_cmd_postfix": "",
     "delete_cmd_prefix": "del ",
     "library": "var_list.py",
     "varRefreshCmd": "print(var_dic_list())"
    },
    "r": {
     "delete_cmd_postfix": ") ",
     "delete_cmd_prefix": "rm(",
     "library": "var_list.r",
     "varRefreshCmd": "cat(var_dic_list()) "
    }
   },
   "types_to_exclude": [
    "module",
    "function",
    "builtin_function_or_method",
    "instance",
    "_Feature"
   ],
   "window_display": false
  }
 },
 "nbformat": 4,
 "nbformat_minor": 4
}
