{
 "cells": [
  {
   "cell_type": "markdown",
   "metadata": {},
   "source": [
    "\n",
    "# Conflicts and versions \n",
    "\n",
    "Conflicts are an essential part of any distributed system. \n",
    "Conflicts arise when there are two or more valid versions of the same message.\n",
    "\n",
    "As we've seen from the previous notebooks, the network can be unreliable: there may be longer delays. But what about faults/conflicts from the clients/message producers? Moreover, a message might have multiple valid versions.  It could be that peers received two versions of the message, both being signed and valid. What version to choose? What to do when an order of the message is important? \n",
    "\n"
   ]
  },
  {
   "cell_type": "code",
   "execution_count": null,
   "metadata": {
    "ExecuteTime": {
     "end_time": "2020-04-06T14:57:56.563349Z",
     "start_time": "2020-04-06T14:57:55.611305Z"
    }
   },
   "outputs": [],
   "source": [
    "# Initialize the experiment:\n",
    "import networkx as nx\n",
    "from p2psimpy.simulation import Simulation\n",
    "import warnings\n",
    "warnings.filterwarnings('ignore')\n",
    "\n",
    "# Load the previous experiment configurations\n",
    "exper = Simulation.load_experiment(expr_dir='crash_gossip')\n",
    "\n",
    "Locations, topology, peer_services, serv_impl = exper\n"
   ]
  },
  {
   "cell_type": "markdown",
   "metadata": {},
   "source": [
    "## Client generating conflicting information\n",
    "\n",
    "Let's assign first adversary nodes, we will assign randomly: "
   ]
  },
  {
   "cell_type": "code",
   "execution_count": null,
   "metadata": {
    "ExecuteTime": {
     "end_time": "2020-04-06T14:57:56.586655Z",
     "start_time": "2020-04-06T14:57:56.565647Z"
    }
   },
   "outputs": [],
   "source": [
    "import random\n",
    "import string\n",
    "\n",
    "from p2psimpy import BaseMessage, GossipMessage, MessageProducer, PullGossipService\n",
    "\n",
    "from p2psimpy.consts import TEMPERED\n",
    "from p2psimpy.config import Config, Func, Dist\n",
    "\n",
    "class Transaction(BaseMessage):\n",
    "    pass \n",
    "\n",
    "class ConflictMessageProducer(MessageProducer):\n",
    "    \n",
    "    def __init__(self, *args, **kwargs):\n",
    "        super().__init__(*args, **kwargs)\n",
    "        \n",
    "        self.balance = 100 \n",
    "        \n",
    "        \n",
    "    def _generate_tx(self):        \n",
    "        msg_phash = ''.join(random.choices(string.ascii_uppercase, k=20))\n",
    "        diff = random.randint(1, 9)        \n",
    "        data = {'hash': msg_phash, 'balance': self.balance-diff, 'diff': diff}\n",
    "        tx = Transaction(self.peer, data)\n",
    "        \n",
    "        msg_id = '_'.join((str(self.peer.peer_id), str(self.counter)))\n",
    "        msg_ttl = self.init_ttl\n",
    "        return GossipMessage(self.peer, msg_id, tx, msg_ttl, \n",
    "            pre_task=self.pre_task, post_task=self.post_task)\n",
    "    \n",
    "    def produce_transaction(self):\n",
    "        # generate new transaction\n",
    "        msg = self._generate_tx()\n",
    "        if self.balance - msg.data.data['diff'] < 0:\n",
    "            return\n",
    "        \n",
    "        cons = list(self.peer.connections.keys())\n",
    "        m_ix = len(cons) // 2\n",
    "        for p in cons[:m_ix]:\n",
    "            self.peer.send(p, msg)\n",
    "            \n",
    "        # Generate conflicting message as if previous transaction hasn't happened  \n",
    "        msg = self._generate_tx()\n",
    "        for p in cons[m_ix:]:\n",
    "            self.peer.send(p, msg)\n",
    "        \n",
    "        self.peer.store('msg_time', str(self.peer.peer_id) +'_' + str(self.counter), self.peer.env.now)\n",
    "        self.peer.store('msg_data', str(self.peer.peer_id) + '_' + str(self.counter), msg)\n",
    "        self.balance -= msg.data.data['diff']\n",
    "        self.counter+=1\n",
    "\n",
    "def validate_task(msg, peer):\n",
    "    # time it takes to verify the signature\n",
    "    crypto_verify = Dist('norm', (1, 0.2)) \n",
    "    # time to verify the message data\n",
    "    msg_verify = Dist(\"lognorm\", (0.49512563, 4.892564, 0.0425785)) \n",
    "    \n",
    "    yield peer.env.timeout(crypto_verify.get() + msg_verify.get())\n",
    "    if isinstance(msg, Transaction):        \n",
    "        tx = msg.data\n",
    "        if tx == TEMPERED or tx['balance'] < 0:\n",
    "            # You can decide what to do in this case.\n",
    "            return False\n",
    "    return True\n",
    "\n",
    "\n",
    "class MsgConfig(Config):\n",
    "    pre_task = Func(validate_task)\n",
    "    \n",
    "peer_services['client'].service_map['MessageProducer'] = MsgConfig\n",
    "serv_impl['MessageProducer'] = ConflictMessageProducer\n",
    "serv_impl['RangedPullGossipService'] = PullGossipService"
   ]
  },
  {
   "cell_type": "markdown",
   "metadata": {},
   "source": [
    "## Run simulation \n",
    "\n",
    "Let's see how adversarial agents together with crashing nodes affect the message dissemination. "
   ]
  },
  {
   "cell_type": "code",
   "execution_count": null,
   "metadata": {
    "ExecuteTime": {
     "end_time": "2020-04-06T14:57:56.604140Z",
     "start_time": "2020-04-06T14:57:56.590607Z"
    }
   },
   "outputs": [],
   "source": [
    "peer_services"
   ]
  },
  {
   "cell_type": "code",
   "execution_count": null,
   "metadata": {
    "ExecuteTime": {
     "end_time": "2020-04-06T14:57:57.138015Z",
     "start_time": "2020-04-06T14:57:56.607056Z"
    }
   },
   "outputs": [],
   "source": [
    "# Init Graph\n",
    "sim = Simulation(Locations, topology, peer_services, serv_impl)\n",
    "sim.run(5_200)"
   ]
  },
  {
   "cell_type": "markdown",
   "metadata": {},
   "source": [
    "## Message analysis\n",
    "\n",
    "Let's see how this fraction of adverserial nodes affected the network. \n"
   ]
  },
  {
   "cell_type": "code",
   "execution_count": null,
   "metadata": {
    "ExecuteTime": {
     "end_time": "2020-04-06T14:57:57.533344Z",
     "start_time": "2020-04-06T14:57:57.140065Z"
    }
   },
   "outputs": [],
   "source": [
    "import pandas as pd\n",
    "\n",
    "def message_data(sim, peer_id, storage_name):\n",
    "    store = sim.peers[peer_id].storage[storage_name].txs\n",
    "    for msg_id, tx in store.items():\n",
    "        client_id, msg_num = msg_id.split('_')\n",
    "        client_tx = sim.peers[int(client_id)].storage[storage_name].txs[msg_id]\n",
    "        yield (int(msg_num), tx.data == client_tx.data)\n",
    "        \n",
    "def get_gossip_table(sim, storage_name, func):\n",
    "    return pd.DataFrame({k: dict(func(sim, k, storage_name)) \n",
    "                         for k in set(sim.types_peers['peer'])}).sort_index()\n",
    "\n",
    "    \n",
    "df = get_gossip_table(sim, 'msg_data', message_data)\n",
    "df"
   ]
  },
  {
   "cell_type": "code",
   "execution_count": null,
   "metadata": {
    "ExecuteTime": {
     "end_time": "2020-04-06T14:57:57.548906Z",
     "start_time": "2020-04-06T14:57:57.535671Z"
    }
   },
   "outputs": [],
   "source": [
    "df[df==False].count()"
   ]
  },
  {
   "cell_type": "code",
   "execution_count": null,
   "metadata": {
    "ExecuteTime": {
     "end_time": "2020-04-06T14:57:57.560127Z",
     "start_time": "2020-04-06T14:57:57.551366Z"
    }
   },
   "outputs": [],
   "source": [
    "sim.peers[1].storage['msg_data'].txs"
   ]
  },
  {
   "cell_type": "code",
   "execution_count": null,
   "metadata": {
    "ExecuteTime": {
     "end_time": "2020-04-06T14:57:57.573247Z",
     "start_time": "2020-04-06T14:57:57.564438Z"
    }
   },
   "outputs": [],
   "source": [
    "sim.peers[3].storage['msg_data'].txs"
   ]
  },
  {
   "cell_type": "markdown",
   "metadata": {
    "ExecuteTime": {
     "end_time": "2020-03-24T16:36:08.019704Z",
     "start_time": "2020-03-24T16:36:08.009675Z"
    }
   },
   "source": [
    "Peers see different versions of the same message!\n",
    "This is an issue as it might violate integrity guarantees. For example, peers might have a different view on the client's balance. \n",
    "\n",
    "How to fix this? \n",
    "- One way to solve this is to use a (consensus algorithm)[https://en.wikipedia.org/wiki/Consensus_(computer_science)]\n",
    "\n",
    "\n",
    "# Consensus algorithm\n",
    "\n",
    "\n",
    "The consensus is a process that allows achieving a consistent view on a value (agreement). \n",
    "Some of the peers may fail or be unreliable, so consensus protocols must be fault-tolerant or resilient. The peers must communicate with one another and agree on a single value.\n",
    "\n",
    "The consensus problem is fundamental in all distributed systems. One approach to generating consensus is for all processes (agents) to agree on a majority value. In this context, a majority requires at least one more than half of the available votes (where each process is given a vote). However, one or more faulty processes may skew the resultant outcome such that consensus may not be reached or reached incorrectly.\n",
    "\n",
    "\n",
    "\n",
    "#  Exercise \n",
    "\n",
    "In this notebook we ask to implement a consensus service and show that all honest peers accept the same value.  \n",
    "You can assume that an elected leader is never faulty. \n",
    "Here are some poissible algorithms you can consider: \n",
    "- **Majority Voting**. Fully connected network. Send votes to all nodes. Choose the value based on majority/super-majority. How many rounds/phases do you need?  \n",
    "- **Majority Voting with Neighbours**. Connected network. Send votes to all neighbors. Choose the value based on majority/super-majority of your neighbors. How many rounds/phases you need for full convergence? \n",
    "- **Consensus through a lottery**. Send transactions through gossip. Everybody runs some lottery mechanism: that both takes time and chooses one or several nodes. This(these) nodes decide which version of the transaction to pick and send through gossip a decided version of transactions (block). How many rounds of lottery you need for convergence? \n",
    "\n",
    "**You can choose any of the above algorithm or propose your own**\n"
   ]
  },
  {
   "cell_type": "code",
   "execution_count": null,
   "metadata": {},
   "outputs": [],
   "source": []
  },
  {
   "cell_type": "code",
   "execution_count": null,
   "metadata": {},
   "outputs": [],
   "source": []
  },
  {
   "cell_type": "code",
   "execution_count": null,
   "metadata": {},
   "outputs": [],
   "source": []
  }
 ],
 "metadata": {
  "hide_input": false,
  "kernelspec": {
   "display_name": "Python 3 (ipykernel)",
   "language": "python",
   "name": "python3"
  },
  "language_info": {
   "codemirror_mode": {
    "name": "ipython",
    "version": 3
   },
   "file_extension": ".py",
   "mimetype": "text/x-python",
   "name": "python",
   "nbconvert_exporter": "python",
   "pygments_lexer": "ipython3",
   "version": "3.9.9"
  },
  "toc": {
   "base_numbering": 1,
   "nav_menu": {},
   "number_sections": true,
   "sideBar": true,
   "skip_h1_title": false,
   "title_cell": "Table of Contents",
   "title_sidebar": "Contents",
   "toc_cell": false,
   "toc_position": {},
   "toc_section_display": true,
   "toc_window_display": false
  },
  "varInspector": {
   "cols": {
    "lenName": 16,
    "lenType": 16,
    "lenVar": 40
   },
   "kernels_config": {
    "python": {
     "delete_cmd_postfix": "",
     "delete_cmd_prefix": "del ",
     "library": "var_list.py",
     "varRefreshCmd": "print(var_dic_list())"
    },
    "r": {
     "delete_cmd_postfix": ") ",
     "delete_cmd_prefix": "rm(",
     "library": "var_list.r",
     "varRefreshCmd": "cat(var_dic_list()) "
    }
   },
   "types_to_exclude": [
    "module",
    "function",
    "builtin_function_or_method",
    "instance",
    "_Feature"
   ],
   "window_display": false
  }
 },
 "nbformat": 4,
 "nbformat_minor": 4
}
